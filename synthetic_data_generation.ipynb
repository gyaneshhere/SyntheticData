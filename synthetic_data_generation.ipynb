{
 "cells": [
  {
   "cell_type": "markdown",
   "id": "0AtyLRnxSD2g",
   "metadata": {
    "id": "0AtyLRnxSD2g"
   },
   "source": [
    "### How Is it done ??\n",
    "### Before GenAI emerged (Well, this is used still in many companies but **GenAI is what everyone is talking about these days** )\n",
    "Some of the modelling techniques used:\n",
    "- Classic statistical methods\n",
    "- Deep Learning models (GAN , VAE behind the scene)\n",
    "- Mix of classic statistical models and Deep Learning.\n",
    "\n",
    "Once synthetic data is generated, we need to evaluate it to make sure it is OK to use in downstream tasks. There are many libraries, websites offering these kind of solutions. But here, we focus in GenAI part."
   ]
  },
  {
   "cell_type": "raw",
   "id": "1302a608-4b4d-46bf-bd0c-b4f13eff2e5e",
   "metadata": {
    "id": "1302a608-4b4d-46bf-bd0c-b4f13eff2e5e"
   },
   "source": [
    "# Synthetic data generation [Main LangChain Documentation](https://python.langchain.com/docs/use_cases/data_generation)\n",
    "\n",
    "## [Youtube video covering this notebook](https://youtu.be/hDTLt8UbWYg)"
   ]
  },
  {
   "cell_type": "markdown",
   "id": "aa3571cc",
   "metadata": {
    "id": "aa3571cc"
   },
   "source": [
    "## Use case\n",
    "\n",
    "Synthetic data refers to artificially generated data that imitates the characteristics of real data without containing any information from actual individuals or entities. It is typically created through mathematical models, algorithms, or other data generation techniques. Synthetic data can be used for a variety of purposes, including testing, research, and training machine learning models, while preserving privacy and security.\n",
    "\n",
    "Benefits of Synthetic Data:\n",
    "\n",
    "1. **Privacy and Security**: No real personal data at risk of breaches.\n",
    "2. **Data Augmentation**: Expands datasets for machine learning.\n",
    "3. **Flexibility**: Create specific or rare scenarios.\n",
    "4. **Cost-effective**: Often cheaper than real-world data collection.\n",
    "5. **Regulatory Compliance**: Helps navigate strict data protection laws.\n",
    "6. **Model Robustness**: Can lead to better generalizing AI models.\n",
    "7. **Rapid Prototyping**: Enables quick testing without real data.\n",
    "8. **Controlled Experimentation**: Simulate specific conditions.\n",
    "9. **Access to Data**: Alternative when real data isn't available.\n",
    "\n",
    "**Note: Despite the benefits, synthetic data should be used carefully, as it may not always capture real-world complexities.**"
   ]
  },
  {
   "cell_type": "markdown",
   "id": "EQ1qYxSgbDMt",
   "metadata": {
    "id": "EQ1qYxSgbDMt"
   },
   "source": [
    "## Quickstart\n",
    "\n",
    "In this notebook, we'll dive deep into generating synthetic medical billing records using the langchain library. This tool is particularly useful when you want to develop or test algorithms but don't want to use real patient data due to privacy concerns or data availability issues."
   ]
  },
  {
   "cell_type": "markdown",
   "id": "bca57012",
   "metadata": {
    "id": "bca57012"
   },
   "source": [
    "## Setup\n",
    "- First, you'll need to have the langchain library installed, along with its dependencies. Since we're using the OpenAI generator chain, we'll install that as well. Since this is an experimental lib, we'll need to include `langchain_experimental` in our installs.\n",
    "- [Pydantic](https://docs.pydantic.dev/latest/): Data validation library for Python"
   ]
  },
  {
   "cell_type": "code",
   "execution_count": 30,
   "id": "a0377478",
   "metadata": {
    "id": "a0377478"
   },
   "outputs": [],
   "source": [
    "%%capture\n",
    "!pip install -U langchain langchain_experimental openai"
   ]
  },
  {
   "cell_type": "code",
   "execution_count": 44,
   "id": "7bDU3j-Zb0Jf",
   "metadata": {
    "id": "7bDU3j-Zb0Jf"
   },
   "outputs": [],
   "source": [
    "# set environment variables\n",
    "# https://platform.openai.com/account/api-keys\n",
    "import os\n",
    "import json\n",
    "import dotenv\n",
    "import openai\n",
    "\n",
    "dotenv.load_dotenv()\n",
    "\n",
    "endpoint = os.environ.get(\"AZURE_OPENAI_ENDPOINT\")\n",
    "api_key = os.environ.get(\"AZURE_OPENAI_API_KEY\")\n",
    "deployment = os.environ.get(\"AZURE_OPENAI_DEPLOYMENT_NAME\")\n",
    "api_version = os.environ.get(\"AZURE_OPENAI_API_VERSION\")\n"
   ]
  },
  {
   "cell_type": "code",
   "execution_count": 45,
   "id": "9875b612-9deb-4d24-9a0d-618c93584421",
   "metadata": {},
   "outputs": [
    {
     "data": {
      "text/plain": [
       "'2024-02-15-preview'"
      ]
     },
     "execution_count": 45,
     "metadata": {},
     "output_type": "execute_result"
    }
   ],
   "source": [
    "api_version"
   ]
  },
  {
   "cell_type": "code",
   "execution_count": 46,
   "id": "e3kkn3SlbzBF",
   "metadata": {
    "id": "e3kkn3SlbzBF"
   },
   "outputs": [],
   "source": [
    "from langchain.prompts import FewShotPromptTemplate, PromptTemplate\n",
    "from langchain_openai import AzureChatOpenAI\n",
    "from langchain.pydantic_v1 import BaseModel\n",
    "from langchain_experimental.tabular_synthetic_data.base import SyntheticDataGenerator\n",
    "from langchain_experimental.tabular_synthetic_data.openai import create_openai_data_generator, OPENAI_TEMPLATE\n",
    "from langchain_experimental.tabular_synthetic_data.prompts import SYNTHETIC_FEW_SHOT_SUFFIX, SYNTHETIC_FEW_SHOT_PREFIX"
   ]
  },
  {
   "cell_type": "markdown",
   "id": "a5a0917b",
   "metadata": {
    "id": "a5a0917b"
   },
   "source": [
    "## 1. Define Your Data Model\n",
    "- Every dataset has a structure or a \"schema\".\n",
    "- The MedicalBilling class below serves as our schema for the synthetic data.\n",
    "- By defining this, we're informing our synthetic data generator about the shape and nature of data we expect."
   ]
  },
  {
   "cell_type": "code",
   "execution_count": 47,
   "id": "291bad6e",
   "metadata": {
    "id": "291bad6e"
   },
   "outputs": [],
   "source": [
    "class MedicalBilling(BaseModel):\n",
    "    patient_id: int\n",
    "    patient_name: str\n",
    "    diagnosis_code: str\n",
    "    procedure_code: str\n",
    "    total_charge: float\n",
    "    insurance_claim_amount: float\n"
   ]
  },
  {
   "cell_type": "markdown",
   "id": "2059ca63",
   "metadata": {
    "id": "2059ca63"
   },
   "source": [
    "## 2. Sample Data\n",
    "To guide the synthetic data generator, it's useful to provide it with a few real-world-like examples. These examples serve as a \"seed\" - they're representative of the kind of data you want, and the generator will use them to create more data that looks similar.\n",
    "\n",
    "Here are some fictional medical billing records:"
   ]
  },
  {
   "cell_type": "code",
   "execution_count": 48,
   "id": "b989b792",
   "metadata": {
    "id": "b989b792"
   },
   "outputs": [],
   "source": [
    "examples = [\n",
    "    {\"example\": \"\"\"Patient ID: 123456, Patient Name: John Doe, Diagnosis Code:\n",
    "        J20.9, Procedure Code: 99203, Total Charge: $500, Insurance Claim Amount: $350\"\"\"},\n",
    "    {\"example\": \"\"\"Patient ID: 789012, Patient Name: Johnson Smith, Diagnosis\n",
    "        Code: M54.5, Procedure Code: 99213, Total Charge: $150, Insurance Claim Amount: $120\"\"\"},\n",
    "    {\"example\": \"\"\"Patient ID: 345678, Patient Name: Emily Stone, Diagnosis Code:\n",
    "        E11.9, Procedure Code: 99214, Total Charge: $300, Insurance Claim Amount: $250\"\"\"},\n",
    "]"
   ]
  },
  {
   "cell_type": "markdown",
   "id": "57e28809",
   "metadata": {
    "id": "57e28809"
   },
   "source": [
    "## 3. Craft a Prompt Template\n",
    "The generator doesn't magically know how to create our data; we need to guide it. We do this by creating a prompt template. This template helps instruct the underlying language model on how to produce synthetic data in the desired format."
   ]
  },
  {
   "cell_type": "code",
   "execution_count": 49,
   "id": "ea6e042e",
   "metadata": {
    "id": "ea6e042e"
   },
   "outputs": [],
   "source": [
    "OPENAI_TEMPLATE = PromptTemplate(input_variables=[\"example\"], template=\"{example}\")\n",
    "\n",
    "prompt_template = FewShotPromptTemplate(\n",
    "    prefix=SYNTHETIC_FEW_SHOT_PREFIX,\n",
    "    examples=examples,\n",
    "    suffix=SYNTHETIC_FEW_SHOT_SUFFIX,\n",
    "    input_variables=[\"subject\", \"extra\"],\n",
    "    example_prompt=OPENAI_TEMPLATE,\n",
    ")"
   ]
  },
  {
   "cell_type": "code",
   "execution_count": 50,
   "id": "820fa107-93b8-4a49-b414-8485eafed643",
   "metadata": {},
   "outputs": [
    {
     "data": {
      "text/plain": [
       "FewShotPromptTemplate(input_variables=['extra', 'subject'], examples=[{'example': 'Patient ID: 123456, Patient Name: John Doe, Diagnosis Code:\\n        J20.9, Procedure Code: 99203, Total Charge: $500, Insurance Claim Amount: $350'}, {'example': 'Patient ID: 789012, Patient Name: Johnson Smith, Diagnosis\\n        Code: M54.5, Procedure Code: 99213, Total Charge: $150, Insurance Claim Amount: $120'}, {'example': 'Patient ID: 345678, Patient Name: Emily Stone, Diagnosis Code:\\n        E11.9, Procedure Code: 99214, Total Charge: $300, Insurance Claim Amount: $250'}], example_prompt=PromptTemplate(input_variables=['example'], template='{example}'), suffix='Now you generate synthetic data about {subject}. Make sure to {extra}:', prefix='This is a test about generating synthetic data about {subject}. Examples below:')"
      ]
     },
     "execution_count": 50,
     "metadata": {},
     "output_type": "execute_result"
    }
   ],
   "source": [
    "prompt_template"
   ]
  },
  {
   "cell_type": "markdown",
   "id": "fa6da3cb",
   "metadata": {
    "id": "fa6da3cb"
   },
   "source": [
    "The `FewShotPromptTemplate` includes:\n",
    "\n",
    "- `prefix` and `suffix`: These likely contain guiding context or instructions.\n",
    "- `examples`: The sample data we defined earlier.\n",
    "- `input_variables`: These variables (\"subject\", \"extra\") are placeholders you can dynamically fill later. For instance, \"subject\" might be filled with \"medical_billing\" to guide the model further.\n",
    "- `example_prompt`: This prompt template is the format we want each example row to take in our prompt."
   ]
  },
  {
   "cell_type": "markdown",
   "id": "pI5oGS-fchEi",
   "metadata": {
    "id": "pI5oGS-fchEi"
   },
   "source": [
    "## 4. Creating the Data Generator\n",
    "With the schema and the prompt ready, the next step is to create the data generator. This object knows how to communicate with the underlying language model to get synthetic data."
   ]
  },
  {
   "cell_type": "code",
   "execution_count": 51,
   "id": "1b9ba911",
   "metadata": {
    "id": "1b9ba911"
   },
   "outputs": [],
   "source": [
    "synthetic_data_generator = create_openai_data_generator(\n",
    "    output_schema=MedicalBilling,\n",
    "    llm=AzureChatOpenAI(temperature=1,api_version=api_version,azure_endpoint = os.getenv(\"AZURE_OPENAI_ENDPOINT\"),\n",
    "  api_key= api_key,model_name = os.getenv(\"AZURE_OPENAI_MODEL_NAME\")),\n",
    "    prompt=prompt_template,\n",
    ")"
   ]
  },
  {
   "cell_type": "markdown",
   "id": "a4198bd6",
   "metadata": {
    "id": "a4198bd6"
   },
   "source": [
    "## 5. Generate Synthetic Data\n",
    "Finally, let's get our synthetic data!"
   ]
  },
  {
   "cell_type": "code",
   "execution_count": 52,
   "id": "a424c890",
   "metadata": {
    "id": "a424c890"
   },
   "outputs": [],
   "source": [
    "synthetic_results = synthetic_data_generator.generate(\n",
    "    subject=\"medical_billing\",\n",
    "    extra=\"the name must be chosen at random. Make it something you wouldn't normally choose.\",\n",
    "    runs=10,\n",
    ")"
   ]
  },
  {
   "cell_type": "markdown",
   "id": "fa4402e9",
   "metadata": {
    "id": "fa4402e9"
   },
   "source": [
    "This command asks the generator to produce 10 synthetic medical billing records. The results are stored in `synthetic_results`. The output will be a list of the MedicalBilling pydantic models."
   ]
  },
  {
   "cell_type": "code",
   "execution_count": 53,
   "id": "8lIQ7XaJeIsv",
   "metadata": {
    "colab": {
     "base_uri": "https://localhost:8080/"
    },
    "id": "8lIQ7XaJeIsv",
    "outputId": "0ea3c614-8b5b-44c0-ea93-3085b700ec60"
   },
   "outputs": [
    {
     "data": {
      "text/plain": [
       "list"
      ]
     },
     "execution_count": 53,
     "metadata": {},
     "output_type": "execute_result"
    }
   ],
   "source": [
    "type(synthetic_results)"
   ]
  },
  {
   "cell_type": "markdown",
   "id": "NV99vyuGc_us",
   "metadata": {
    "id": "NV99vyuGc_us"
   },
   "source": [
    "## 6. Visualize the Generated Synthetic Data"
   ]
  },
  {
   "cell_type": "code",
   "execution_count": 54,
   "id": "0b03de4d",
   "metadata": {
    "colab": {
     "base_uri": "https://localhost:8080/"
    },
    "id": "0b03de4d",
    "outputId": "e65cd16a-d6ad-474b-f1ae-e58717f04891"
   },
   "outputs": [
    {
     "data": {
      "text/plain": [
       "10"
      ]
     },
     "execution_count": 54,
     "metadata": {},
     "output_type": "execute_result"
    }
   ],
   "source": [
    "len(synthetic_results)"
   ]
  },
  {
   "cell_type": "code",
   "execution_count": 55,
   "id": "U4xA8dAAc-DY",
   "metadata": {
    "colab": {
     "base_uri": "https://localhost:8080/"
    },
    "id": "U4xA8dAAc-DY",
    "outputId": "1271d4b1-1eb6-476a-8377-ae1182987dd6"
   },
   "outputs": [
    {
     "data": {
      "text/plain": [
       "[MedicalBilling(patient_id=987654, patient_name='Zephyr Quantum', diagnosis_code='I10', procedure_code='99315', total_charge=600.0, insurance_claim_amount=450.0),\n",
       " MedicalBilling(patient_id=456123, patient_name='Nebula Starshine', diagnosis_code='K21.9', procedure_code='99212', total_charge=200.0, insurance_claim_amount=160.0),\n",
       " MedicalBilling(patient_id=789012, patient_name='Mistwood Reverie', diagnosis_code='M54.5', procedure_code='99203', total_charge=350.0, insurance_claim_amount=280.0),\n",
       " MedicalBilling(patient_id=678901, patient_name='Crimson Whimsy', diagnosis_code='E11.9', procedure_code='90471', total_charge=475.0, insurance_claim_amount=380.0),\n",
       " MedicalBilling(patient_id=123987, patient_name='Whispering Echo', diagnosis_code='J30.1', procedure_code='99441', total_charge=150.0, insurance_claim_amount=120.0),\n",
       " MedicalBilling(patient_id=456789, patient_name='Galactic Carousel', diagnosis_code='I10', procedure_code='93000', total_charge=600.0, insurance_claim_amount=480.0),\n",
       " MedicalBilling(patient_id=235680, patient_name='Echoing Flibbertigibbet', diagnosis_code='K21.9', procedure_code='11100', total_charge=320.0, insurance_claim_amount=256.0),\n",
       " MedicalBilling(patient_id=369871, patient_name='Spectral Marmalade', diagnosis_code='H25.1', procedure_code='20550', total_charge=475.0, insurance_claim_amount=380.0),\n",
       " MedicalBilling(patient_id=789123, patient_name='Whimsical Nebula', diagnosis_code='E11.9', procedure_code='71020', total_charge=550.0, insurance_claim_amount=440.0),\n",
       " MedicalBilling(patient_id=789654, patient_name='Frolicking Polka-Dot', diagnosis_code='R53.81', procedure_code='20610', total_charge=420.0, insurance_claim_amount=336.0)]"
      ]
     },
     "execution_count": 55,
     "metadata": {},
     "output_type": "execute_result"
    }
   ],
   "source": [
    "synthetic_results"
   ]
  },
  {
   "cell_type": "markdown",
   "id": "XJ3vfh9UfyLS",
   "metadata": {
    "id": "XJ3vfh9UfyLS"
   },
   "source": [
    "## 7. Converting the synthetic data into Pandas Dataframe"
   ]
  },
  {
   "cell_type": "code",
   "execution_count": 56,
   "id": "LLbrrDNMeQLe",
   "metadata": {
    "colab": {
     "base_uri": "https://localhost:8080/",
     "height": 380
    },
    "id": "LLbrrDNMeQLe",
    "outputId": "223f0c2b-5796-42b1-fe93-a26795ce554b"
   },
   "outputs": [
    {
     "name": "stdout",
     "output_type": "stream",
     "text": [
      "<class 'pandas.core.frame.DataFrame'>\n"
     ]
    },
    {
     "data": {
      "text/html": [
       "<div>\n",
       "<style scoped>\n",
       "    .dataframe tbody tr th:only-of-type {\n",
       "        vertical-align: middle;\n",
       "    }\n",
       "\n",
       "    .dataframe tbody tr th {\n",
       "        vertical-align: top;\n",
       "    }\n",
       "\n",
       "    .dataframe thead th {\n",
       "        text-align: right;\n",
       "    }\n",
       "</style>\n",
       "<table border=\"1\" class=\"dataframe\">\n",
       "  <thead>\n",
       "    <tr style=\"text-align: right;\">\n",
       "      <th></th>\n",
       "      <th>patient_id</th>\n",
       "      <th>patient_name</th>\n",
       "      <th>diagnosis_code</th>\n",
       "      <th>procedure_code</th>\n",
       "      <th>total_charge</th>\n",
       "      <th>insurance_claim_amount</th>\n",
       "    </tr>\n",
       "  </thead>\n",
       "  <tbody>\n",
       "    <tr>\n",
       "      <th>0</th>\n",
       "      <td>987654</td>\n",
       "      <td>Zephyr Quantum</td>\n",
       "      <td>I10</td>\n",
       "      <td>99315</td>\n",
       "      <td>600.0</td>\n",
       "      <td>450.0</td>\n",
       "    </tr>\n",
       "    <tr>\n",
       "      <th>1</th>\n",
       "      <td>456123</td>\n",
       "      <td>Nebula Starshine</td>\n",
       "      <td>K21.9</td>\n",
       "      <td>99212</td>\n",
       "      <td>200.0</td>\n",
       "      <td>160.0</td>\n",
       "    </tr>\n",
       "    <tr>\n",
       "      <th>2</th>\n",
       "      <td>789012</td>\n",
       "      <td>Mistwood Reverie</td>\n",
       "      <td>M54.5</td>\n",
       "      <td>99203</td>\n",
       "      <td>350.0</td>\n",
       "      <td>280.0</td>\n",
       "    </tr>\n",
       "    <tr>\n",
       "      <th>3</th>\n",
       "      <td>678901</td>\n",
       "      <td>Crimson Whimsy</td>\n",
       "      <td>E11.9</td>\n",
       "      <td>90471</td>\n",
       "      <td>475.0</td>\n",
       "      <td>380.0</td>\n",
       "    </tr>\n",
       "    <tr>\n",
       "      <th>4</th>\n",
       "      <td>123987</td>\n",
       "      <td>Whispering Echo</td>\n",
       "      <td>J30.1</td>\n",
       "      <td>99441</td>\n",
       "      <td>150.0</td>\n",
       "      <td>120.0</td>\n",
       "    </tr>\n",
       "    <tr>\n",
       "      <th>5</th>\n",
       "      <td>456789</td>\n",
       "      <td>Galactic Carousel</td>\n",
       "      <td>I10</td>\n",
       "      <td>93000</td>\n",
       "      <td>600.0</td>\n",
       "      <td>480.0</td>\n",
       "    </tr>\n",
       "    <tr>\n",
       "      <th>6</th>\n",
       "      <td>235680</td>\n",
       "      <td>Echoing Flibbertigibbet</td>\n",
       "      <td>K21.9</td>\n",
       "      <td>11100</td>\n",
       "      <td>320.0</td>\n",
       "      <td>256.0</td>\n",
       "    </tr>\n",
       "    <tr>\n",
       "      <th>7</th>\n",
       "      <td>369871</td>\n",
       "      <td>Spectral Marmalade</td>\n",
       "      <td>H25.1</td>\n",
       "      <td>20550</td>\n",
       "      <td>475.0</td>\n",
       "      <td>380.0</td>\n",
       "    </tr>\n",
       "    <tr>\n",
       "      <th>8</th>\n",
       "      <td>789123</td>\n",
       "      <td>Whimsical Nebula</td>\n",
       "      <td>E11.9</td>\n",
       "      <td>71020</td>\n",
       "      <td>550.0</td>\n",
       "      <td>440.0</td>\n",
       "    </tr>\n",
       "    <tr>\n",
       "      <th>9</th>\n",
       "      <td>789654</td>\n",
       "      <td>Frolicking Polka-Dot</td>\n",
       "      <td>R53.81</td>\n",
       "      <td>20610</td>\n",
       "      <td>420.0</td>\n",
       "      <td>336.0</td>\n",
       "    </tr>\n",
       "  </tbody>\n",
       "</table>\n",
       "</div>"
      ],
      "text/plain": [
       "   patient_id             patient_name diagnosis_code procedure_code  \\\n",
       "0      987654           Zephyr Quantum            I10          99315   \n",
       "1      456123         Nebula Starshine          K21.9          99212   \n",
       "2      789012         Mistwood Reverie          M54.5          99203   \n",
       "3      678901           Crimson Whimsy          E11.9          90471   \n",
       "4      123987          Whispering Echo          J30.1          99441   \n",
       "5      456789        Galactic Carousel            I10          93000   \n",
       "6      235680  Echoing Flibbertigibbet          K21.9          11100   \n",
       "7      369871       Spectral Marmalade          H25.1          20550   \n",
       "8      789123         Whimsical Nebula          E11.9          71020   \n",
       "9      789654     Frolicking Polka-Dot         R53.81          20610   \n",
       "\n",
       "   total_charge  insurance_claim_amount  \n",
       "0         600.0                   450.0  \n",
       "1         200.0                   160.0  \n",
       "2         350.0                   280.0  \n",
       "3         475.0                   380.0  \n",
       "4         150.0                   120.0  \n",
       "5         600.0                   480.0  \n",
       "6         320.0                   256.0  \n",
       "7         475.0                   380.0  \n",
       "8         550.0                   440.0  \n",
       "9         420.0                   336.0  "
      ]
     },
     "execution_count": 56,
     "metadata": {},
     "output_type": "execute_result"
    }
   ],
   "source": [
    "import pandas as pd\n",
    "\n",
    "# Create a list of dictionaries from the objects\n",
    "synthetic_data = []\n",
    "for item in synthetic_results:\n",
    "    synthetic_data.append({\n",
    "        'patient_id': item.patient_id,\n",
    "        'patient_name': item.patient_name,\n",
    "        'diagnosis_code': item.diagnosis_code,\n",
    "        'procedure_code': item.procedure_code,\n",
    "        'total_charge': item.total_charge,\n",
    "        'insurance_claim_amount': item.insurance_claim_amount\n",
    "    })\n",
    "\n",
    "# Create a Pandas DataFrame from the list of dictionaries\n",
    "synthetic_df = pd.DataFrame(synthetic_data)\n",
    "\n",
    "# Display the DataFrame\n",
    "print(type(synthetic_df))\n",
    "synthetic_df"
   ]
  },
  {
   "cell_type": "code",
   "execution_count": 43,
   "id": "3z0FY1xEe81v",
   "metadata": {
    "colab": {
     "base_uri": "https://localhost:8080/"
    },
    "id": "3z0FY1xEe81v",
    "outputId": "614c2dee-388c-4efd-b1e0-16256c2347fb"
   },
   "outputs": [
    {
     "data": {
      "text/plain": [
       "(10, 6)"
      ]
     },
     "execution_count": 43,
     "metadata": {},
     "output_type": "execute_result"
    }
   ],
   "source": [
    "synthetic_df.shape"
   ]
  },
  {
   "cell_type": "markdown",
   "id": "pYsSc2jcfr6R",
   "metadata": {
    "id": "pYsSc2jcfr6R"
   },
   "source": [
    "### Start exploring based on your usecase and use the same approach for real sensitive data. But, be careful, as the synthetic data might not capture the real-world complexities."
   ]
  }
 ],
 "metadata": {
  "colab": {
   "provenance": []
  },
  "kernelspec": {
   "display_name": "Python 3 (ipykernel)",
   "language": "python",
   "name": "python3"
  },
  "language_info": {
   "codemirror_mode": {
    "name": "ipython",
    "version": 3
   },
   "file_extension": ".py",
   "mimetype": "text/x-python",
   "name": "python",
   "nbconvert_exporter": "python",
   "pygments_lexer": "ipython3",
   "version": "3.12.4"
  }
 },
 "nbformat": 4,
 "nbformat_minor": 5
}
